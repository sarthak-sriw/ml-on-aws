{
 "cells": [
  {
   "cell_type": "markdown",
   "metadata": {},
   "source": [
    "# Capture photo"
   ]
  },
  {
   "cell_type": "code",
   "execution_count": 38,
   "metadata": {},
   "outputs": [
    {
     "name": "stdout",
     "output_type": "stream",
     "text": [
      "True\n"
     ]
    }
   ],
   "source": [
    "import cv2\n",
    "\n",
    "cap = cv2.VideoCapture(1)\n",
    "ret,photo = cap.read()\n",
    "print(ret)\n",
    "myphoto = \"myphoto1.jpeg\"\n",
    "cv2.imwrite(myphoto,photo)\n",
    "cap.release()"
   ]
  },
  {
   "cell_type": "code",
   "execution_count": null,
   "metadata": {},
   "outputs": [],
   "source": [
    "region = \"us-east-1\""
   ]
  },
  {
   "cell_type": "markdown",
   "metadata": {},
   "source": [
    "# Upload photo to S3"
   ]
  },
  {
   "cell_type": "code",
   "execution_count": 9,
   "metadata": {},
   "outputs": [],
   "source": [
    "#s3 buckeet name\n",
    "bucket = \"mybucketsriw\""
   ]
  },
  {
   "cell_type": "code",
   "execution_count": 39,
   "metadata": {},
   "outputs": [],
   "source": [
    "#pip install aws\n",
    "#pip install boto3\n",
    "import boto3\n",
    "\n",
    "s3 = boto3.resource(\"s3\")\n",
    "upimage = \"file.jpg\"\n",
    "#upimage = \"me2.jpeg\"\n",
    "s3.Bucket(bucket).upload_file(myphoto,upimage)    "
   ]
  },
  {
   "cell_type": "markdown",
   "metadata": {},
   "source": [
    "# Setup rekognition"
   ]
  },
  {
   "cell_type": "code",
   "execution_count": 16,
   "metadata": {},
   "outputs": [],
   "source": [
    "rek = boto3.client(\"rekognition\",region)\n"
   ]
  },
  {
   "cell_type": "markdown",
   "metadata": {},
   "source": [
    " ## Detect label"
   ]
  },
  {
   "cell_type": "code",
   "execution_count": 19,
   "metadata": {},
   "outputs": [],
   "source": [
    "response = rek.detect_labels(\n",
    "Image={\n",
    "          'S3Object': {\n",
    "              'Bucket': bucket,\n",
    "              'Name': upimage,\n",
    "          }\n",
    "      },\n",
    "      MaxLabels=2,\n",
    "      MinConfidence=90\n",
    ")"
   ]
  },
  {
   "cell_type": "code",
   "execution_count": 20,
   "metadata": {},
   "outputs": [
    {
     "data": {
      "text/plain": [
       "{'Labels': [{'Name': 'Person',\n",
       "   'Confidence': 98.18309783935547,\n",
       "   'Instances': [{'BoundingBox': {'Width': 0.8181970715522766,\n",
       "      'Height': 0.9221070408821106,\n",
       "      'Left': 0.1635492742061615,\n",
       "      'Top': 0.05966835096478462},\n",
       "     'Confidence': 98.18309783935547}],\n",
       "   'Parents': []},\n",
       "  {'Name': 'Clothing',\n",
       "   'Confidence': 95.02742004394531,\n",
       "   'Instances': [],\n",
       "   'Parents': []}],\n",
       " 'LabelModelVersion': '2.0',\n",
       " 'ResponseMetadata': {'RequestId': '607ee5a1-f10a-4917-b4db-7add4d26e262',\n",
       "  'HTTPStatusCode': 200,\n",
       "  'HTTPHeaders': {'content-type': 'application/x-amz-json-1.1',\n",
       "   'date': 'Tue, 08 Jun 2021 14:14:37 GMT',\n",
       "   'x-amzn-requestid': '607ee5a1-f10a-4917-b4db-7add4d26e262',\n",
       "   'content-length': '349',\n",
       "   'connection': 'keep-alive'},\n",
       "  'RetryAttempts': 0}}"
      ]
     },
     "execution_count": 20,
     "metadata": {},
     "output_type": "execute_result"
    }
   ],
   "source": [
    "response"
   ]
  },
  {
   "cell_type": "code",
   "execution_count": 22,
   "metadata": {},
   "outputs": [
    {
     "name": "stdout",
     "output_type": "stream",
     "text": [
      "Person\n",
      "Clothing\n"
     ]
    }
   ],
   "source": [
    "for i in response['Labels']:\n",
    "    print(i['Name'])"
   ]
  },
  {
   "cell_type": "markdown",
   "metadata": {},
   "source": [
    "## Detect faces"
   ]
  },
  {
   "cell_type": "code",
   "execution_count": 40,
   "metadata": {},
   "outputs": [
    {
     "data": {
      "text/plain": [
       "{'FaceDetails': [],\n",
       " 'ResponseMetadata': {'RequestId': '162c2154-52d2-4ca9-8b05-22713fcf1b10',\n",
       "  'HTTPStatusCode': 200,\n",
       "  'HTTPHeaders': {'content-type': 'application/x-amz-json-1.1',\n",
       "   'date': 'Tue, 08 Jun 2021 14:38:52 GMT',\n",
       "   'x-amzn-requestid': '162c2154-52d2-4ca9-8b05-22713fcf1b10',\n",
       "   'content-length': '18',\n",
       "   'connection': 'keep-alive'},\n",
       "  'RetryAttempts': 0}}"
      ]
     },
     "execution_count": 40,
     "metadata": {},
     "output_type": "execute_result"
    }
   ],
   "source": [
    "rek.detect_faces(\n",
    "Image={\n",
    "          'S3Object': {\n",
    "              'Bucket': bucket,\n",
    "              'Name': upimage,\n",
    "          }\n",
    "      },\n",
    "    Attributes = [ 'ALL' ]\n",
    ")"
   ]
  },
  {
   "cell_type": "code",
   "execution_count": null,
   "metadata": {},
   "outputs": [],
   "source": []
  }
 ],
 "metadata": {
  "kernelspec": {
   "display_name": "Python 3",
   "language": "python",
   "name": "python3"
  },
  "language_info": {
   "codemirror_mode": {
    "name": "ipython",
    "version": 3
   },
   "file_extension": ".py",
   "mimetype": "text/x-python",
   "name": "python",
   "nbconvert_exporter": "python",
   "pygments_lexer": "ipython3",
   "version": "3.7.6"
  }
 },
 "nbformat": 4,
 "nbformat_minor": 4
}
